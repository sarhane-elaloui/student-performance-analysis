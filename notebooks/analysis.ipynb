import pandas as pd
import matplotlib.pyplot as plt

# Load data
df = pd.read_csv("../data/raw/grades.csv")

# Basic stats
print(df.describe())

# Visualization
df.plot(kind='box', title='Grade Distribution')
plt.savefig('../images/grades_boxplot.png')
