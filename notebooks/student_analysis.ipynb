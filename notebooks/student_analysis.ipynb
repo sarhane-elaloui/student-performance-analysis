# Cell 1: Imports
import pandas as pd
import seaborn as sns
import matplotlib.pyplot as plt
%matplotlib inline

# Cell 2: Data Loading
df = pd.read_csv("../data/processed/cleaned_students.csv")
display(df.head())

# Cell 3: Correlation Analysis
corr_matrix = df.corr()
sns.heatmap(corr_matrix, annot=True, cmap='coolwarm')
plt.title("Grade Correlation Matrix")
plt.show()

# Cell 4: Advanced Visualization
sns.lmplot(data=df, x='attendance', y='total_score', 
           hue='math_score', height=6, aspect=1.5)
plt.title("Attendance vs Performance")
